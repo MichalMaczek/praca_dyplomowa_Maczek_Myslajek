{
  "nbformat": 4,
  "nbformat_minor": 0,
  "metadata": {
    "colab": {
      "name": "Clustering.ipynb",
      "provenance": [],
      "collapsed_sections": [
        "WsLwc534XsZl",
        "o_yHLpMDX8u0",
        "8C0_Bf3pYEqG",
        "WQIeJ2cPa8rn",
        "07DaAS6CbGvP",
        "8jyl0mdSbx8c",
        "DkrTp1Pybx8c",
        "UP-HXf-8bx8i",
        "Wue_ffzFbx8l",
        "q59wq_4Dbx8o",
        "p3XpnC0EcIpa",
        "4dnkf6Amcj5r",
        "ODwst0d1clRS"
      ],
      "include_colab_link": true
    },
    "kernelspec": {
      "name": "python3",
      "display_name": "Python 3"
    },
    "language_info": {
      "name": "python"
    }
  },
  "cells": [
    {
      "cell_type": "markdown",
      "metadata": {
        "id": "view-in-github",
        "colab_type": "text"
      },
      "source": [
        "<a href=\"https://colab.research.google.com/github/MichalMaczek/praca_inz/blob/main/Clustering.ipynb\" target=\"_parent\"><img src=\"https://colab.research.google.com/assets/colab-badge.svg\" alt=\"Open In Colab\"/></a>"
      ]
    },
    {
      "cell_type": "markdown",
      "metadata": {
        "id": "gri7JwfczFCr"
      },
      "source": [
        "# 1."
      ]
    },
    {
      "cell_type": "code",
      "metadata": {
        "colab": {
          "base_uri": "https://localhost:8080/"
        },
        "id": "GBohye1mvXT-",
        "outputId": "0da25164-3b0e-45f1-ce64-93784bc7cdbd"
      },
      "source": [
        "import pandas as pd\n",
        "import numpy as np\n",
        "import os\n",
        "import glob\n",
        "import matplotlib.pyplot as plt\n",
        "\n",
        "from google.colab import drive\n",
        "drive.mount('/content/drive')"
      ],
      "execution_count": 27,
      "outputs": [
        {
          "output_type": "stream",
          "name": "stdout",
          "text": [
            "Drive already mounted at /content/drive; to attempt to forcibly remount, call drive.mount(\"/content/drive\", force_remount=True).\n"
          ]
        }
      ]
    },
    {
      "cell_type": "code",
      "metadata": {
        "id": "8ya9IDMyX0zX"
      },
      "source": [
        "XY = pd.read_csv('/content/drive/MyDrive/Inż/Adaptive/XY_512_150_adap.csv', sep=',', index_col=0)\n",
        "\n",
        "lista = []\n",
        "for (columnName, columnData) in XY.iteritems():\n",
        "  lista.append(columnName)\n",
        "\n",
        "X = pd.DataFrame(XY, columns= lista[:-1])\n",
        "Y = pd.DataFrame(XY, columns = [\"Label\"])"
      ],
      "execution_count": 28,
      "outputs": []
    },
    {
      "cell_type": "code",
      "metadata": {
        "id": "H5oq4KC7X3N1"
      },
      "source": [
        "TRAINING = [3, 4, 5, 7, 10, 11, 12, 13]\n",
        "TEST = [1, 2, 6, 8, 9]\n",
        "training_names = ['CTU_' + str(TRAINING[j]) + '_' for j in range(len(TRAINING))]\n",
        "test_names = ['CTU_' + str(TEST[j]) + '_' for j in range(len(TEST))]"
      ],
      "execution_count": 29,
      "outputs": []
    },
    {
      "cell_type": "code",
      "metadata": {
        "id": "s9fbQ-9EX9v1"
      },
      "source": [
        "xy_training = XY[XY.index.str.startswith(tuple(training_names))]\n",
        "x_train = pd.DataFrame(xy_training, columns= lista[:-1])\n",
        "y_train = pd.DataFrame(xy_training, columns = [\"Label\"])\n",
        "\n",
        "xy_test = XY[XY.index.str.startswith(tuple(test_names))]\n",
        "x_test = pd.DataFrame(xy_test, columns= lista[:-1])\n",
        "y_test = pd.DataFrame(xy_test, columns = [\"Label\"])"
      ],
      "execution_count": 30,
      "outputs": []
    },
    {
      "cell_type": "code",
      "metadata": {
        "id": "-2Y_ZYApeoJ1"
      },
      "source": [
        "#standaryzacja danych trenujących\n",
        "from sklearn.preprocessing import StandardScaler\n",
        "\n",
        "scaler = StandardScaler()\n",
        "scaled_features = scaler.fit_transform(x_train)\n",
        "x_train_scaled = pd.DataFrame(scaled_features, index=x_train.index)"
      ],
      "execution_count": 31,
      "outputs": []
    },
    {
      "cell_type": "code",
      "metadata": {
        "id": "OkVN3M22b6Ax"
      },
      "source": [
        "from sklearn.cluster import DBSCAN, OPTICS\n",
        "from sklearn.preprocessing import StandardScaler\n",
        "\n",
        "#klasa dla klastrów\n",
        "class Cluster:\n",
        "    bot = False\n",
        "    hosts = []\n",
        "    coord = []\n",
        "    \n",
        "    def __init__(self, bot, hosts, coord):\n",
        "        self.bot = bot\n",
        "        self.hosts = hosts\n",
        "        self.coord = coord"
      ],
      "execution_count": 32,
      "outputs": []
    },
    {
      "cell_type": "markdown",
      "metadata": {
        "id": "11MedUoRVg8c"
      },
      "source": [
        "# Number of bins: 512"
      ]
    },
    {
      "cell_type": "markdown",
      "metadata": {
        "id": "zuIMZeSHav_v"
      },
      "source": [
        "## Threshold = 150"
      ]
    },
    {
      "cell_type": "markdown",
      "metadata": {
        "id": "VRmzgXv-av_z"
      },
      "source": [
        "### Model"
      ]
    },
    {
      "cell_type": "code",
      "metadata": {
        "id": "LQ5Rlo67av_z"
      },
      "source": [
        "#liczba binów oraz zbiór EPS\n",
        "no_of_bins = 512\n",
        "multiplier = [0.01 * n for n in range(1, 10)]\n",
        "EPS = [ round(x * no_of_bins,1) for x in multiplier]"
      ],
      "execution_count": 33,
      "outputs": []
    },
    {
      "cell_type": "markdown",
      "metadata": {
        "id": "mfNa8J_gav_z"
      },
      "source": [
        "Learning"
      ]
    },
    {
      "cell_type": "code",
      "source": [
        "#hiperparametry algorytmu DBSCAN\n",
        "#parametr algorithm - nie pomaga w ogóle\n",
        "algorithm = ['auto', 'ball_tree', 'kd_tree', 'brute', 'auto']\n",
        "metric = ['cityblock', 'euclidean']"
      ],
      "metadata": {
        "id": "RBsgz2xk5D_x"
      },
      "execution_count": 34,
      "outputs": []
    },
    {
      "cell_type": "code",
      "metadata": {
        "colab": {
          "base_uri": "https://localhost:8080/"
        },
        "id": "UDcoIY7Hav_z",
        "outputId": "5211cf31-d594-419d-c1c9-eddda05a9c88"
      },
      "source": [
        "#grupowanie\n",
        "test, labels = [{} for i in range(2)]\n",
        "for eps in EPS:\n",
        "  dbscan = DBSCAN(eps=eps, min_samples=1,  metric='cityblock').fit(x_train_scaled)\n",
        "  labels[eps] = dbscan.labels_\n",
        "\n",
        "  clusters = []\n",
        "  for label in range(max(labels[eps]) + 1):\n",
        "    hosts = []\n",
        "    is_bot = False\n",
        "    for id, clus in enumerate(labels[eps]):\n",
        "      if label == clus:\n",
        "        hosts.append(list(x_train.index)[id])\n",
        "\n",
        "        if xy_training['Label'].loc[x_train.index[int(id)]] == 1:\n",
        "          is_bot = True\n",
        "\n",
        "    coords = [x_train.loc[host] for host in hosts]\n",
        "\n",
        "    #obliczenie pozycji klastra\n",
        "    cluster_position = np.mean(coords, axis=0)\n",
        "    clusters.append(Cluster(is_bot, hosts, cluster_position))\n",
        "    test[eps] = clusters\n",
        "  print(max(labels[eps]))"
      ],
      "execution_count": 35,
      "outputs": [
        {
          "output_type": "stream",
          "name": "stdout",
          "text": [
            "589\n",
            "550\n",
            "514\n",
            "482\n",
            "451\n",
            "421\n",
            "386\n",
            "358\n",
            "338\n"
          ]
        }
      ]
    },
    {
      "cell_type": "markdown",
      "metadata": {
        "id": "FCGWmgEFav_z"
      },
      "source": [
        "EVALUATION"
      ]
    },
    {
      "cell_type": "code",
      "metadata": {
        "colab": {
          "base_uri": "https://localhost:8080/"
        },
        "id": "HmP-fUK5av_z",
        "outputId": "53a8d551-8164-4ad4-8449-d9b2a5b3c941"
      },
      "source": [
        "import tensorflow as tf\n",
        "#klasyfikacja\n",
        "precision, recall, f1_score, accuracy = [{} for i in range(4)]\n",
        "for eps in EPS:\n",
        "  tp, fp, tn, fn = [0 for i in range(4)]\n",
        "  \n",
        "  for k in range(len(x_test)):\n",
        "\n",
        "    distances = {}\n",
        "\n",
        "    for cluster in test[eps]:\n",
        "      #obliczenie odległości próbki od klastrów\n",
        "      distances[cluster] = tf.norm(np.array(cluster.coord) - np.array(x_test.loc[x_test.index[k]]), ord=1)\n",
        "    #znalezienie najbliższego klastra dla próbki\n",
        "    closest_cluster = min(distances, key=distances.get)\n",
        "    \n",
        "    if closest_cluster.bot:\n",
        "      if xy_test['Label'].loc[x_test.index[k]] == 1:\n",
        "        tp += 1\n",
        "      else:\n",
        "        fp += 1\n",
        "        \n",
        "    else:\n",
        "      if xy_test['Label'].loc[x_test.index[k]] == 1:\n",
        "        fn +=1\n",
        "      else:\n",
        "        tn += 1\n",
        "\n",
        "  precision[eps] = float(tp) / (tp + fp) if (tp + fp) != 0 else 0\n",
        "  recall[eps] = float(tp) / (tp + fn) if (tp + fn) != 0 else 0\n",
        "  f1_score[eps] = 2 * (recall[eps] * precision[eps]) / (recall[eps] + precision[eps]) if (recall[eps] + precision[eps]) != 0 else 0\n",
        "  accuracy[eps] = float(tp + tn) / (tp + tn + fp + fn) if (tp + tn + fp + fn) != 0 else 0\n",
        "\n",
        "  print(str(eps) + \": [\" + str(tp) + \" , \" + str(fn) + \"\\n \\t\" + str(fp) + \" , \" + str(tn) + \"]\")"
      ],
      "execution_count": 36,
      "outputs": [
        {
          "output_type": "stream",
          "name": "stdout",
          "text": [
            "5.1: [12 , 2\n",
            " \t5 , 707]\n",
            "10.2: [12 , 2\n",
            " \t0 , 712]\n",
            "15.4: [12 , 2\n",
            " \t0 , 712]\n",
            "20.5: [13 , 1\n",
            " \t0 , 712]\n",
            "25.6: [13 , 1\n",
            " \t0 , 712]\n",
            "30.7: [13 , 1\n",
            " \t0 , 712]\n",
            "35.8: [13 , 1\n",
            " \t0 , 712]\n",
            "41.0: [13 , 1\n",
            " \t2 , 710]\n",
            "46.1: [13 , 1\n",
            " \t2 , 710]\n"
          ]
        }
      ]
    },
    {
      "cell_type": "markdown",
      "metadata": {
        "id": "Pw6zDVMVav_0"
      },
      "source": [
        "METRICS"
      ]
    },
    {
      "cell_type": "code",
      "metadata": {
        "colab": {
          "base_uri": "https://localhost:8080/"
        },
        "id": "koLAXDYBav_0",
        "outputId": "2bfbdc8a-eab1-4663-f5bf-5c98e4621cef"
      },
      "source": [
        "#wypisanie metryk\n",
        "new_labs = {}\n",
        "for eps in EPS:\n",
        "  print(\"EPSILON: \" + str(eps))\n",
        "  print(\"Precision: \" + str(precision[eps]))\n",
        "  print(\"Recall: \" + str(recall[eps]))\n",
        "  print(\"Accuracy: \" + str(accuracy[eps]))\n",
        "  print(\"F1 score: \" + str(f1_score[eps]))\n",
        "  print(\"No of clusters: \" + str(max(labels[eps])))\n",
        "  new_labs[eps] = max(labels[eps])\n",
        "  print(\"-----------------------------------------------------\")"
      ],
      "execution_count": 37,
      "outputs": [
        {
          "output_type": "stream",
          "name": "stdout",
          "text": [
            "EPSILON: 5.1\n",
            "Precision: 0.7058823529411765\n",
            "Recall: 0.8571428571428571\n",
            "Accuracy: 0.990358126721763\n",
            "F1 score: 0.7741935483870968\n",
            "No of clusters: 589\n",
            "-----------------------------------------------------\n",
            "EPSILON: 10.2\n",
            "Precision: 1.0\n",
            "Recall: 0.8571428571428571\n",
            "Accuracy: 0.9972451790633609\n",
            "F1 score: 0.923076923076923\n",
            "No of clusters: 550\n",
            "-----------------------------------------------------\n",
            "EPSILON: 15.4\n",
            "Precision: 1.0\n",
            "Recall: 0.8571428571428571\n",
            "Accuracy: 0.9972451790633609\n",
            "F1 score: 0.923076923076923\n",
            "No of clusters: 514\n",
            "-----------------------------------------------------\n",
            "EPSILON: 20.5\n",
            "Precision: 1.0\n",
            "Recall: 0.9285714285714286\n",
            "Accuracy: 0.9986225895316805\n",
            "F1 score: 0.962962962962963\n",
            "No of clusters: 482\n",
            "-----------------------------------------------------\n",
            "EPSILON: 25.6\n",
            "Precision: 1.0\n",
            "Recall: 0.9285714285714286\n",
            "Accuracy: 0.9986225895316805\n",
            "F1 score: 0.962962962962963\n",
            "No of clusters: 451\n",
            "-----------------------------------------------------\n",
            "EPSILON: 30.7\n",
            "Precision: 1.0\n",
            "Recall: 0.9285714285714286\n",
            "Accuracy: 0.9986225895316805\n",
            "F1 score: 0.962962962962963\n",
            "No of clusters: 421\n",
            "-----------------------------------------------------\n",
            "EPSILON: 35.8\n",
            "Precision: 1.0\n",
            "Recall: 0.9285714285714286\n",
            "Accuracy: 0.9986225895316805\n",
            "F1 score: 0.962962962962963\n",
            "No of clusters: 386\n",
            "-----------------------------------------------------\n",
            "EPSILON: 41.0\n",
            "Precision: 0.8666666666666667\n",
            "Recall: 0.9285714285714286\n",
            "Accuracy: 0.9958677685950413\n",
            "F1 score: 0.896551724137931\n",
            "No of clusters: 358\n",
            "-----------------------------------------------------\n",
            "EPSILON: 46.1\n",
            "Precision: 0.8666666666666667\n",
            "Recall: 0.9285714285714286\n",
            "Accuracy: 0.9958677685950413\n",
            "F1 score: 0.896551724137931\n",
            "No of clusters: 338\n",
            "-----------------------------------------------------\n"
          ]
        }
      ]
    },
    {
      "cell_type": "code",
      "metadata": {
        "id": "h0V6Msq11dn_"
      },
      "source": [
        "#zapisanie parametrów do wykresów\n",
        "np.savetxt(\"/content/drive/MyDrive/Inż/Plots/precision_1024_150_reg_0-1.csv\", np.asarray(list(precision.values())), delimiter=\",\")\n",
        "np.savetxt(\"/content/drive/MyDrive/Inż/Plots/recall_1024_150_reg_0-1.csv\", np.asarray(list(recall.values())), delimiter=\",\")\n",
        "np.savetxt(\"/content/drive/MyDrive/Inż/Plots/accuracy_1024_150_reg_0-1.csv\", np.asarray(list(accuracy.values())), delimiter=\",\")\n",
        "np.savetxt(\"/content/drive/MyDrive/Inż/Plots/f1_score_1024_150_reg_0-1.csv\", np.asarray(list(f1_score.values())), delimiter=\",\")\n",
        "np.savetxt(\"/content/drive/MyDrive/Inż/Plots/no_of_clusters_1024_150_reg_0-1.csv\", np.asarray(list(new_labs.values())), delimiter=\",\")"
      ],
      "execution_count": null,
      "outputs": []
    }
  ]
}